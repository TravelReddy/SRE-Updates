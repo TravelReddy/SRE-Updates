{
 "cells": [
  {
   "cell_type": "code",
   "execution_count": 145,
   "metadata": {},
   "outputs": [],
   "source": [
    "import math\n",
    "import numpy as np\n",
    "import pandas as pd\n",
    "import itertools\n",
    "import matplotlib.pyplot as plt\n",
    "import seaborn as sns\n",
    "import statsmodels.formula.api as smf\n",
    "import statsmodels.api as sm\n",
    "from sklearn.preprocessing import StandardScaler\n",
    "from sklearn.metrics import mean_squared_error\n",
    "from sklearn.model_selection import train_test_split,GridSearchCV\n",
    "from sklearn.linear_model import ElasticNet,Lasso,Ridge,LinearRegression,ElasticNetCV,LassoCV\n",
    "from sklearn.model_selection import train_test_split\n",
    "import warnings\n",
    "warnings.filterwarnings('ignore')"
   ]
  },
  {
   "cell_type": "markdown",
   "metadata": {},
   "source": [
    "# 1. write the equation that governs the SRE\n",
    "# M - 2M (1 / (1 + exp((a * x)^b)))"
   ]
  },
  {
   "cell_type": "code",
   "execution_count": 146,
   "metadata": {},
   "outputs": [],
   "source": [
    "def single_sre(a,b,m,cycles):\n",
    "        try:\n",
    "            for cycle in cycles:\n",
    "                z = 1 + math.exp((a * cycle)**b)\n",
    "                f = 2* m * ((1/z))\n",
    "            return f\n",
    "        except OverflowError:\n",
    "            z = float('inf')\n",
    "            return z"
   ]
  },
  {
   "cell_type": "code",
   "execution_count": 147,
   "metadata": {},
   "outputs": [],
   "source": [
    "from sklearn.metrics import mean_squared_error"
   ]
  },
  {
   "cell_type": "code",
   "execution_count": 148,
   "metadata": {},
   "outputs": [],
   "source": [
    "def rmse(x,y):\n",
    "    return np.sqrt(mean_squared_error(x,y))"
   ]
  },
  {
   "cell_type": "code",
   "execution_count": 149,
   "metadata": {},
   "outputs": [],
   "source": [
    "def r2(actual,predicted):\n",
    "    df = pd.DataFrame({'actual':actual,'predicted':predicted})\n",
    "    SS_tot = sum((df['actual']-df['actual'].mean())**2)\n",
    "    SS_reg = sum((df['actual']-df['predicted'])**2)\n",
    "    return(1-SS_reg/SS_tot)"
   ]
  },
  {
   "cell_type": "code",
   "execution_count": 150,
   "metadata": {},
   "outputs": [],
   "source": [
    "def expandgrid(a,b):\n",
    "    product = list(itertools.product(list(np.ravel(a)),\n",
    "                                     list(np.ravel(b))))\n",
    "    df = pd.DataFrame(product,columns=['a','b'])\n",
    "    return df"
   ]
  },
  {
   "cell_type": "markdown",
   "metadata": {},
   "source": [
    "# 2. create a range of values for a, b, and m"
   ]
  },
  {
   "cell_type": "code",
   "execution_count": 151,
   "metadata": {},
   "outputs": [],
   "source": [
    "\n",
    "num_a = 100\n",
    "num_b = 1\n",
    "a_range = np.linspace(.02, .03,num_a)\n",
    "b_range = 0.6\n",
    "#b_range = seq(.5, .7, length.out = num_b)\n",
    "m_range = 20.5 # fixed"
   ]
  },
  {
   "cell_type": "code",
   "execution_count": 152,
   "metadata": {},
   "outputs": [],
   "source": [
    "all_combinations = expandgrid(a_range,b_range)\n",
    "num_combinations = all_combinations.shape[0]"
   ]
  },
  {
   "cell_type": "markdown",
   "metadata": {},
   "source": [
    "- estiamted SRE through cell sage: a = 0.0219, b = 0.600, m = 20.5\n",
    "\n",
    "# 3. Create the data required for regression\n",
    "- read in the data"
   ]
  },
  {
   "cell_type": "code",
   "execution_count": 153,
   "metadata": {},
   "outputs": [],
   "source": [
    "cells = pd.read_excel('./cells.xlsx')\n",
    "response = cells[cells['cell']==4]"
   ]
  },
  {
   "cell_type": "markdown",
   "metadata": {},
   "source": [
    "- create data required for elastic net as a \n",
    "- series of different potential values of a, b, and m"
   ]
  },
  {
   "cell_type": "code",
   "execution_count": 154,
   "metadata": {},
   "outputs": [],
   "source": [
    "cycles = response['cycles']\n",
    "capacity = response['capacity']\n",
    "num_cycles = len(cycles)\n",
    "pred_matrix = np.zeros((num_cycles,num_combinations))"
   ]
  },
  {
   "cell_type": "code",
   "execution_count": 155,
   "metadata": {},
   "outputs": [],
   "source": [
    "for i in range(num_combinations):\n",
    "    pred_matrix[:,i] = single_sre(cycles=cycles,\n",
    "                                  a=all_combinations['a'][i], \n",
    "                                  b=all_combinations['b'][i],\n",
    "                                  m=m_range)"
   ]
  },
  {
   "cell_type": "markdown",
   "metadata": {},
   "source": [
    "# 4.  elastic-net regression analysis"
   ]
  },
  {
   "cell_type": "code",
   "execution_count": 156,
   "metadata": {},
   "outputs": [],
   "source": [
    "enet = ElasticNetCV(l1_ratio=0.5)\n",
    "fit = enet.fit(X=pred_matrix,y=capacity)"
   ]
  },
  {
   "cell_type": "markdown",
   "metadata": {},
   "source": [
    "# DOUBT"
   ]
  },
  {
   "cell_type": "code",
   "execution_count": 157,
   "metadata": {},
   "outputs": [],
   "source": [
    "temp_lambda = fit.alphas_\n",
    "new_lambda = [math.exp(i) for i in np.linspace(np.log(temp_lambda[1]),np.log(temp_lambda[3]),100)]\n",
    "enet = ElasticNetCV(l1_ratio=0.5,alphas=new_lambda)\n",
    "fit = enet.fit(X=pred_matrix,y=capacity)"
   ]
  },
  {
   "cell_type": "code",
   "execution_count": 158,
   "metadata": {},
   "outputs": [
    {
     "data": {
      "text/plain": [
       "array([ 0.,  0.,  0., -0.,  0.,  0.,  0.,  0.,  0.,  0.,  0.,  0.,  0.,\n",
       "        0.,  0.,  0.,  0.,  0., -0., -0.,  0.,  0., -0.,  0.,  0.,  0.,\n",
       "        0.,  0., -0.,  0., -0., -0.,  0.,  0.,  0.,  0.,  0.,  0.,  0.,\n",
       "        0.,  0.,  0.,  0.,  0., -0.,  0.,  0., -0., -0., -0.,  0., -0.,\n",
       "       -0.,  0.,  0.,  0.,  0.,  0.,  0.,  0.,  0.,  0.,  0.,  0., -0.,\n",
       "        0., -0.,  0.,  0., -0.,  0.,  0.,  0., -0., -0.,  0.,  0.,  0.,\n",
       "       -0.,  0.,  0., -0.,  0., -0., -0.,  0., -0.,  0.,  0.,  0., -0.,\n",
       "       -0.,  0.,  0., -0.,  0.,  0.,  0., -0., -0.])"
      ]
     },
     "execution_count": 158,
     "metadata": {},
     "output_type": "execute_result"
    }
   ],
   "source": [
    "fit.coef_"
   ]
  },
  {
   "cell_type": "code",
   "execution_count": 159,
   "metadata": {},
   "outputs": [
    {
     "data": {
      "text/plain": [
       "array([[17.33850781]])"
      ]
     },
     "execution_count": 159,
     "metadata": {},
     "output_type": "execute_result"
    }
   ],
   "source": [
    "from sklearn.linear_model import LinearRegression\n",
    "lm = LinearRegression()\n",
    "fit = lm.fit(X=pred_matrix[:,20:21],y=np.array(capacity).reshape(-1,1))\n",
    "fit.coef_"
   ]
  },
  {
   "cell_type": "code",
   "execution_count": 160,
   "metadata": {},
   "outputs": [
    {
     "data": {
      "image/png": "[encoded data removed]",
      "text/plain": [
       "<Figure size 720x288 with 1 Axes>"
      ]
     },
     "metadata": {
      "needs_background": "light"
     },
     "output_type": "display_data"
    }
   ],
   "source": [
    "pred_val = fit.predict(pred_matrix[:,20:21])\n",
    "plt.figure(figsize=(10,4))\n",
    "plt.scatter(x=list(range(len(capacity))),y=capacity)\n",
    "plt.plot(pred_val,'r')\n",
    "# plt.ylim(,20)\n",
    "plt.show()"
   ]
  },
  {
   "cell_type": "code",
   "execution_count": 161,
   "metadata": {},
   "outputs": [
    {
     "data": {
      "text/plain": [
       "4.229407509971316"
      ]
     },
     "execution_count": 161,
     "metadata": {},
     "output_type": "execute_result"
    }
   ],
   "source": [
    "rmse(x=capacity,y=pred_val)"
   ]
  },
  {
   "cell_type": "code",
   "execution_count": 162,
   "metadata": {},
   "outputs": [
    {
     "data": {
      "text/plain": [
       "-4.440892098500626e-16"
      ]
     },
     "execution_count": 162,
     "metadata": {},
     "output_type": "execute_result"
    }
   ],
   "source": [
    "r2(capacity,pred_val.reshape(-1,))"
   ]
  },
  {
   "cell_type": "markdown",
   "metadata": {},
   "source": [
    "# Adaptive Lasso"
   ]
  },
  {
   "cell_type": "code",
   "execution_count": 163,
   "metadata": {},
   "outputs": [],
   "source": [
    "enet = ElasticNetCV(l1_ratio=0,alphas=np.arange(0,1,0.2))\n",
    "fit = enet.fit(pred_matrix,capacity)\n",
    "temp_coefs = fit.coef_\n",
    "enet = ElasticNetCV(l1_ratio=1/abs(min(temp_coefs)))\n",
    "fit = enet.fit(pred_matrix,capacity)"
   ]
  },
  {
   "cell_type": "code",
   "execution_count": 164,
   "metadata": {},
   "outputs": [
    {
     "data": {
      "image/png": "[encoded data removed]",
      "text/plain": [
       "<Figure size 720x288 with 1 Axes>"
      ]
     },
     "metadata": {
      "needs_background": "light"
     },
     "output_type": "display_data"
    }
   ],
   "source": [
    "pred_val = fit.predict(pred_matrix)\n",
    "plt.figure(figsize=(10,4))\n",
    "plt.scatter(x=list(range(len(capacity))),y=capacity)\n",
    "plt.plot(pred_val,'r')\n",
    "# plt.ylim(,20)\n",
    "plt.show()"
   ]
  },
  {
   "cell_type": "code",
   "execution_count": 165,
   "metadata": {},
   "outputs": [
    {
     "data": {
      "text/plain": [
       "array([[8.66925391]])"
      ]
     },
     "execution_count": 165,
     "metadata": {},
     "output_type": "execute_result"
    }
   ],
   "source": [
    "fit = lm.fit(X=pred_matrix[:,1:2],y=np.array(capacity).reshape(-1,1))\n",
    "fit.coef_"
   ]
  },
  {
   "cell_type": "code",
   "execution_count": 166,
   "metadata": {},
   "outputs": [
    {
     "data": {
      "image/png": "[encoded data removed]",
      "text/plain": [
       "<Figure size 720x288 with 1 Axes>"
      ]
     },
     "metadata": {
      "needs_background": "light"
     },
     "output_type": "display_data"
    }
   ],
   "source": [
    "pred_val = fit.predict(pred_matrix[:,1:2])\n",
    "plt.figure(figsize=(10,4))\n",
    "plt.scatter(x=list(range(len(capacity))),y=capacity)\n",
    "plt.plot(pred_val,'r')\n",
    "# plt.ylim(,20)\n",
    "plt.show()"
   ]
  },
  {
   "cell_type": "code",
   "execution_count": 167,
   "metadata": {},
   "outputs": [
    {
     "data": {
      "text/plain": [
       "4.229407509971316"
      ]
     },
     "execution_count": 167,
     "metadata": {},
     "output_type": "execute_result"
    }
   ],
   "source": [
    "rmse(x=capacity,y=pred_val)"
   ]
  },
  {
   "cell_type": "code",
   "execution_count": 168,
   "metadata": {},
   "outputs": [
    {
     "data": {
      "text/plain": [
       "-4.440892098500626e-16"
      ]
     },
     "execution_count": 168,
     "metadata": {},
     "output_type": "execute_result"
    }
   ],
   "source": [
    "r2(capacity,pred_val.reshape(-1,))"
   ]
  },
  {
   "cell_type": "markdown",
   "metadata": {},
   "source": [
    "# LASSO"
   ]
  },
  {
   "cell_type": "code",
   "execution_count": 169,
   "metadata": {},
   "outputs": [],
   "source": [
    "enet = ElasticNetCV(l1_ratio=1)\n",
    "fit = enet.fit(pred_matrix,capacity)\n",
    "temp_lambda = fit.alphas_\n",
    "new_lambda = [math.exp(i) for i in np.linspace(np.log(temp_lambda[1]),np.log(temp_lambda[5]),100)]\n",
    "enet = ElasticNetCV(l1_ratio=1,alphas=new_lambda)\n",
    "fit = enet.fit(pred_matrix,capacity)"
   ]
  },
  {
   "cell_type": "code",
   "execution_count": 170,
   "metadata": {},
   "outputs": [
    {
     "data": {
      "text/plain": [
       "array([ 0.,  0.,  0., -0.,  0.,  0.,  0.,  0.,  0.,  0.,  0.,  0.,  0.,\n",
       "        0.,  0.,  0.,  0.,  0., -0., -0.,  0.,  0., -0.,  0.,  0.,  0.,\n",
       "        0.,  0., -0.,  0., -0., -0.,  0.,  0.,  0.,  0.,  0.,  0.,  0.,\n",
       "        0.,  0.,  0.,  0.,  0., -0.,  0.,  0., -0., -0., -0.,  0., -0.,\n",
       "       -0.,  0.,  0.,  0.,  0.,  0.,  0.,  0.,  0.,  0.,  0.,  0., -0.,\n",
       "        0., -0.,  0.,  0., -0.,  0.,  0.,  0., -0., -0.,  0.,  0.,  0.,\n",
       "       -0.,  0.,  0., -0.,  0., -0., -0.,  0., -0.,  0.,  0.,  0., -0.,\n",
       "       -0.,  0.,  0., -0.,  0.,  0.,  0., -0., -0.])"
      ]
     },
     "execution_count": 170,
     "metadata": {},
     "output_type": "execute_result"
    }
   ],
   "source": [
    "fit.coef_"
   ]
  },
  {
   "cell_type": "code",
   "execution_count": 171,
   "metadata": {},
   "outputs": [
    {
     "data": {
      "text/plain": [
       "array([[-8.66925391]])"
      ]
     },
     "execution_count": 171,
     "metadata": {},
     "output_type": "execute_result"
    }
   ],
   "source": [
    "fit = lm.fit(X=pred_matrix[:,18:19],y=np.array(capacity).reshape(-1,1))\n",
    "fit.coef_"
   ]
  },
  {
   "cell_type": "code",
   "execution_count": 172,
   "metadata": {},
   "outputs": [
    {
     "data": {
      "image/png": "[encoded data removed]",
      "text/plain": [
       "<Figure size 720x288 with 1 Axes>"
      ]
     },
     "metadata": {
      "needs_background": "light"
     },
     "output_type": "display_data"
    }
   ],
   "source": [
    "pred_val = fit.predict(pred_matrix[:,18:19])\n",
    "plt.figure(figsize=(10,4))\n",
    "plt.scatter(x=list(range(len(capacity))),y=capacity)\n",
    "plt.plot(pred_val,'r')\n",
    "# plt.ylim(,20)\n",
    "plt.show()"
   ]
  },
  {
   "cell_type": "code",
   "execution_count": 173,
   "metadata": {},
   "outputs": [
    {
     "data": {
      "text/plain": [
       "4.229407509971316"
      ]
     },
     "execution_count": 173,
     "metadata": {},
     "output_type": "execute_result"
    }
   ],
   "source": [
    "rmse(x=capacity,y=pred_val)"
   ]
  },
  {
   "cell_type": "code",
   "execution_count": 174,
   "metadata": {},
   "outputs": [
    {
     "data": {
      "text/plain": [
       "-4.440892098500626e-16"
      ]
     },
     "execution_count": 174,
     "metadata": {},
     "output_type": "execute_result"
    }
   ],
   "source": [
    "r2(capacity,pred_val.reshape(-1,))"
   ]
  },
  {
   "cell_type": "markdown",
   "metadata": {},
   "source": [
    "# SCAD"
   ]
  },
  {
   "cell_type": "code",
   "execution_count": 175,
   "metadata": {},
   "outputs": [
    {
     "data": {
      "text/plain": [
       "array([-0., -0., -0.,  0., -0.,  0., -0., -0.,  0.,  0.,  0.,  0., -0.,\n",
       "       -0.,  0.,  0., -0.,  0.,  0.,  0., -0.,  0.,  0., -0.,  0.,  0.,\n",
       "       -0.,  0.,  0., -0.,  0.,  0.,  0., -0.,  0., -0., -0.,  0., -0.,\n",
       "        0., -0.,  0., -0., -0.,  0.,  0., -0.,  0.,  0.,  0., -0.,  0.,\n",
       "        0., -0.,  0., -0., -0.,  0.,  0., -0.,  0.,  0.,  0.,  0.,  0.,\n",
       "        0.,  0.,  0.,  0.,  0.,  0., -0.,  0.,  0.,  0., -0.,  0., -0.,\n",
       "        0., -0., -0.,  0., -0.,  0.,  0.,  0.,  0., -0.,  0.,  0.,  0.,\n",
       "        0.,  0.,  0.,  0.,  0., -0.,  0.,  0.,  0.])"
      ]
     },
     "execution_count": 175,
     "metadata": {},
     "output_type": "execute_result"
    }
   ],
   "source": [
    "enet= ElasticNetCV(l1_ratio=3.7)\n",
    "fit = enet.fit(pred_matrix,capacity)\n",
    "fit.coef_"
   ]
  },
  {
   "cell_type": "code",
   "execution_count": 176,
   "metadata": {},
   "outputs": [
    {
     "data": {
      "image/png": "[encoded data removed]",
      "text/plain": [
       "<Figure size 720x288 with 1 Axes>"
      ]
     },
     "metadata": {
      "needs_background": "light"
     },
     "output_type": "display_data"
    }
   ],
   "source": [
    "pred_val = fit.predict(pred_matrix)\n",
    "plt.figure(figsize=(10,4))\n",
    "plt.scatter(x=list(range(len(capacity))),y=capacity)\n",
    "plt.plot(pred_val,'r')\n",
    "# plt.ylim(,20)\n",
    "plt.show()"
   ]
  },
  {
   "cell_type": "code",
   "execution_count": 177,
   "metadata": {},
   "outputs": [
    {
     "data": {
      "text/plain": [
       "4.229407509971315"
      ]
     },
     "execution_count": 177,
     "metadata": {},
     "output_type": "execute_result"
    }
   ],
   "source": [
    "rmse(x=capacity,y=pred_val)"
   ]
  },
  {
   "cell_type": "code",
   "execution_count": 178,
   "metadata": {},
   "outputs": [
    {
     "data": {
      "text/plain": [
       "-2.220446049250313e-16"
      ]
     },
     "execution_count": 178,
     "metadata": {},
     "output_type": "execute_result"
    }
   ],
   "source": [
    "r2(capacity,pred_val.reshape(-1,))"
   ]
  },
  {
   "cell_type": "code",
   "execution_count": 179,
   "metadata": {},
   "outputs": [
    {
     "data": {
      "text/plain": [
       "array([[17.33850781]])"
      ]
     },
     "execution_count": 179,
     "metadata": {},
     "output_type": "execute_result"
    }
   ],
   "source": [
    "fit = lm.fit(X=pred_matrix[:,12:13],y=np.array(capacity).reshape(-1,1))\n",
    "fit.coef_"
   ]
  },
  {
   "cell_type": "code",
   "execution_count": 180,
   "metadata": {},
   "outputs": [
    {
     "data": {
      "image/png": "[encoded data removed]",
      "text/plain": [
       "<Figure size 720x288 with 1 Axes>"
      ]
     },
     "metadata": {
      "needs_background": "light"
     },
     "output_type": "display_data"
    }
   ],
   "source": [
    "pred_val = fit.predict(pred_matrix[:,12:13])\n",
    "plt.figure(figsize=(10,4))\n",
    "plt.scatter(x=list(range(len(capacity))),y=capacity)\n",
    "plt.plot(pred_val,'r')\n",
    "plt.show()"
   ]
  },
  {
   "cell_type": "code",
   "execution_count": 181,
   "metadata": {},
   "outputs": [
    {
     "data": {
      "text/plain": [
       "4.229407509971316"
      ]
     },
     "execution_count": 181,
     "metadata": {},
     "output_type": "execute_result"
    }
   ],
   "source": [
    "rmse(x=capacity,y=pred_val)"
   ]
  },
  {
   "cell_type": "code",
   "execution_count": 182,
   "metadata": {},
   "outputs": [
    {
     "data": {
      "text/plain": [
       "-4.440892098500626e-16"
      ]
     },
     "execution_count": 182,
     "metadata": {},
     "output_type": "execute_result"
    }
   ],
   "source": [
    "r2(capacity,pred_val.reshape(-1,))"
   ]
  },
  {
   "cell_type": "code",
   "execution_count": 183,
   "metadata": {},
   "outputs": [
    {
     "data": {
      "text/plain": [
       "array([[-17.33850781]])"
      ]
     },
     "execution_count": 183,
     "metadata": {},
     "output_type": "execute_result"
    }
   ],
   "source": [
    "fit = lm.fit(X=pred_matrix[:,30:31],y=np.array(capacity).reshape(-1,1))\n",
    "fit.coef_"
   ]
  },
  {
   "cell_type": "code",
   "execution_count": 184,
   "metadata": {},
   "outputs": [
    {
     "data": {
      "image/png": "[encoded data removed]",
      "text/plain": [
       "<Figure size 720x288 with 1 Axes>"
      ]
     },
     "metadata": {
      "needs_background": "light"
     },
     "output_type": "display_data"
    }
   ],
   "source": [
    "pred_val = fit.predict(pred_matrix[:,30:31])\n",
    "plt.figure(figsize=(10,4))\n",
    "plt.scatter(x=list(range(len(capacity))),y=capacity)\n",
    "plt.plot(pred_val,'r')\n",
    "plt.show()"
   ]
  },
  {
   "cell_type": "code",
   "execution_count": 185,
   "metadata": {},
   "outputs": [
    {
     "data": {
      "text/plain": [
       "4.229407509971315"
      ]
     },
     "execution_count": 185,
     "metadata": {},
     "output_type": "execute_result"
    }
   ],
   "source": [
    "rmse(x=capacity,y=pred_val)"
   ]
  },
  {
   "cell_type": "code",
   "execution_count": 186,
   "metadata": {},
   "outputs": [
    {
     "data": {
      "text/plain": [
       "-2.220446049250313e-16"
      ]
     },
     "execution_count": 186,
     "metadata": {},
     "output_type": "execute_result"
    }
   ],
   "source": [
    "r2(capacity,pred_val.reshape(-1,))"
   ]
  },
  {
   "cell_type": "markdown",
   "metadata": {},
   "source": [
    "# Fused Lasso"
   ]
  },
  {
   "cell_type": "code",
   "execution_count": 187,
   "metadata": {},
   "outputs": [],
   "source": [
    "# library(genlasso)\n",
    "# fit = fusedlasso2d(capacity, pred_matrix, 10, 10)\n",
    "# plot(fit$beta[, 50])\n",
    "# which(fit$beta[,50] > .02)"
   ]
  },
  {
   "cell_type": "code",
   "execution_count": 188,
   "metadata": {},
   "outputs": [],
   "source": [
    "pred_matrix = pd.DataFrame(pred_matrix)\n",
    "pred_matrix.columns = ['a'+str(i) for i in pred_matrix.columns]\n",
    "pred_matrix['capacity'] = capacity"
   ]
  },
  {
   "cell_type": "code",
   "execution_count": 189,
   "metadata": {},
   "outputs": [
    {
     "data": {
      "text/html": [
       "<div>\n",
       "<style scoped>\n",
       "    .dataframe tbody tr th:only-of-type {\n",
       "        vertical-align: middle;\n",
       "    }\n",
       "\n",
       "    .dataframe tbody tr th {\n",
       "        vertical-align: top;\n",
       "    }\n",
       "\n",
       "    .dataframe thead th {\n",
       "        text-align: right;\n",
       "    }\n",
       "</style>\n",
       "<table border=\"1\" class=\"dataframe\">\n",
       "  <thead>\n",
       "    <tr style=\"text-align: right;\">\n",
       "      <th></th>\n",
       "      <th>a0</th>\n",
       "      <th>a1</th>\n",
       "      <th>a2</th>\n",
       "      <th>a3</th>\n",
       "      <th>a4</th>\n",
       "      <th>a5</th>\n",
       "      <th>a6</th>\n",
       "      <th>a7</th>\n",
       "      <th>a8</th>\n",
       "      <th>a9</th>\n",
       "      <th>...</th>\n",
       "      <th>a91</th>\n",
       "      <th>a92</th>\n",
       "      <th>a93</th>\n",
       "      <th>a94</th>\n",
       "      <th>a95</th>\n",
       "      <th>a96</th>\n",
       "      <th>a97</th>\n",
       "      <th>a98</th>\n",
       "      <th>a99</th>\n",
       "      <th>capacity</th>\n",
       "    </tr>\n",
       "  </thead>\n",
       "  <tbody>\n",
       "    <tr>\n",
       "      <th>0</th>\n",
       "      <td>0.751268</td>\n",
       "      <td>0.742431</td>\n",
       "      <td>0.733714</td>\n",
       "      <td>0.725114</td>\n",
       "      <td>0.71663</td>\n",
       "      <td>0.70826</td>\n",
       "      <td>0.700003</td>\n",
       "      <td>0.691856</td>\n",
       "      <td>0.683818</td>\n",
       "      <td>0.675887</td>\n",
       "      <td>...</td>\n",
       "      <td>0.27576</td>\n",
       "      <td>0.272936</td>\n",
       "      <td>0.270145</td>\n",
       "      <td>0.267385</td>\n",
       "      <td>0.264658</td>\n",
       "      <td>0.261961</td>\n",
       "      <td>0.259296</td>\n",
       "      <td>0.256661</td>\n",
       "      <td>0.254056</td>\n",
       "      <td>0.000000</td>\n",
       "    </tr>\n",
       "    <tr>\n",
       "      <th>1</th>\n",
       "      <td>0.751268</td>\n",
       "      <td>0.742431</td>\n",
       "      <td>0.733714</td>\n",
       "      <td>0.725114</td>\n",
       "      <td>0.71663</td>\n",
       "      <td>0.70826</td>\n",
       "      <td>0.700003</td>\n",
       "      <td>0.691856</td>\n",
       "      <td>0.683818</td>\n",
       "      <td>0.675887</td>\n",
       "      <td>...</td>\n",
       "      <td>0.27576</td>\n",
       "      <td>0.272936</td>\n",
       "      <td>0.270145</td>\n",
       "      <td>0.267385</td>\n",
       "      <td>0.264658</td>\n",
       "      <td>0.261961</td>\n",
       "      <td>0.259296</td>\n",
       "      <td>0.256661</td>\n",
       "      <td>0.254056</td>\n",
       "      <td>1.651814</td>\n",
       "    </tr>\n",
       "    <tr>\n",
       "      <th>2</th>\n",
       "      <td>0.751268</td>\n",
       "      <td>0.742431</td>\n",
       "      <td>0.733714</td>\n",
       "      <td>0.725114</td>\n",
       "      <td>0.71663</td>\n",
       "      <td>0.70826</td>\n",
       "      <td>0.700003</td>\n",
       "      <td>0.691856</td>\n",
       "      <td>0.683818</td>\n",
       "      <td>0.675887</td>\n",
       "      <td>...</td>\n",
       "      <td>0.27576</td>\n",
       "      <td>0.272936</td>\n",
       "      <td>0.270145</td>\n",
       "      <td>0.267385</td>\n",
       "      <td>0.264658</td>\n",
       "      <td>0.261961</td>\n",
       "      <td>0.259296</td>\n",
       "      <td>0.256661</td>\n",
       "      <td>0.254056</td>\n",
       "      <td>2.536165</td>\n",
       "    </tr>\n",
       "    <tr>\n",
       "      <th>3</th>\n",
       "      <td>0.751268</td>\n",
       "      <td>0.742431</td>\n",
       "      <td>0.733714</td>\n",
       "      <td>0.725114</td>\n",
       "      <td>0.71663</td>\n",
       "      <td>0.70826</td>\n",
       "      <td>0.700003</td>\n",
       "      <td>0.691856</td>\n",
       "      <td>0.683818</td>\n",
       "      <td>0.675887</td>\n",
       "      <td>...</td>\n",
       "      <td>0.27576</td>\n",
       "      <td>0.272936</td>\n",
       "      <td>0.270145</td>\n",
       "      <td>0.267385</td>\n",
       "      <td>0.264658</td>\n",
       "      <td>0.261961</td>\n",
       "      <td>0.259296</td>\n",
       "      <td>0.256661</td>\n",
       "      <td>0.254056</td>\n",
       "      <td>3.240852</td>\n",
       "    </tr>\n",
       "    <tr>\n",
       "      <th>4</th>\n",
       "      <td>0.751268</td>\n",
       "      <td>0.742431</td>\n",
       "      <td>0.733714</td>\n",
       "      <td>0.725114</td>\n",
       "      <td>0.71663</td>\n",
       "      <td>0.70826</td>\n",
       "      <td>0.700003</td>\n",
       "      <td>0.691856</td>\n",
       "      <td>0.683818</td>\n",
       "      <td>0.675887</td>\n",
       "      <td>...</td>\n",
       "      <td>0.27576</td>\n",
       "      <td>0.272936</td>\n",
       "      <td>0.270145</td>\n",
       "      <td>0.267385</td>\n",
       "      <td>0.264658</td>\n",
       "      <td>0.261961</td>\n",
       "      <td>0.259296</td>\n",
       "      <td>0.256661</td>\n",
       "      <td>0.254056</td>\n",
       "      <td>3.847861</td>\n",
       "    </tr>\n",
       "    <tr>\n",
       "      <th>...</th>\n",
       "      <td>...</td>\n",
       "      <td>...</td>\n",
       "      <td>...</td>\n",
       "      <td>...</td>\n",
       "      <td>...</td>\n",
       "      <td>...</td>\n",
       "      <td>...</td>\n",
       "      <td>...</td>\n",
       "      <td>...</td>\n",
       "      <td>...</td>\n",
       "      <td>...</td>\n",
       "      <td>...</td>\n",
       "      <td>...</td>\n",
       "      <td>...</td>\n",
       "      <td>...</td>\n",
       "      <td>...</td>\n",
       "      <td>...</td>\n",
       "      <td>...</td>\n",
       "      <td>...</td>\n",
       "      <td>...</td>\n",
       "      <td>...</td>\n",
       "    </tr>\n",
       "    <tr>\n",
       "      <th>213</th>\n",
       "      <td>0.751268</td>\n",
       "      <td>0.742431</td>\n",
       "      <td>0.733714</td>\n",
       "      <td>0.725114</td>\n",
       "      <td>0.71663</td>\n",
       "      <td>0.70826</td>\n",
       "      <td>0.700003</td>\n",
       "      <td>0.691856</td>\n",
       "      <td>0.683818</td>\n",
       "      <td>0.675887</td>\n",
       "      <td>...</td>\n",
       "      <td>0.27576</td>\n",
       "      <td>0.272936</td>\n",
       "      <td>0.270145</td>\n",
       "      <td>0.267385</td>\n",
       "      <td>0.264658</td>\n",
       "      <td>0.261961</td>\n",
       "      <td>0.259296</td>\n",
       "      <td>0.256661</td>\n",
       "      <td>0.254056</td>\n",
       "      <td>19.857600</td>\n",
       "    </tr>\n",
       "    <tr>\n",
       "      <th>214</th>\n",
       "      <td>0.751268</td>\n",
       "      <td>0.742431</td>\n",
       "      <td>0.733714</td>\n",
       "      <td>0.725114</td>\n",
       "      <td>0.71663</td>\n",
       "      <td>0.70826</td>\n",
       "      <td>0.700003</td>\n",
       "      <td>0.691856</td>\n",
       "      <td>0.683818</td>\n",
       "      <td>0.675887</td>\n",
       "      <td>...</td>\n",
       "      <td>0.27576</td>\n",
       "      <td>0.272936</td>\n",
       "      <td>0.270145</td>\n",
       "      <td>0.267385</td>\n",
       "      <td>0.264658</td>\n",
       "      <td>0.261961</td>\n",
       "      <td>0.259296</td>\n",
       "      <td>0.256661</td>\n",
       "      <td>0.254056</td>\n",
       "      <td>19.864824</td>\n",
       "    </tr>\n",
       "    <tr>\n",
       "      <th>215</th>\n",
       "      <td>0.751268</td>\n",
       "      <td>0.742431</td>\n",
       "      <td>0.733714</td>\n",
       "      <td>0.725114</td>\n",
       "      <td>0.71663</td>\n",
       "      <td>0.70826</td>\n",
       "      <td>0.700003</td>\n",
       "      <td>0.691856</td>\n",
       "      <td>0.683818</td>\n",
       "      <td>0.675887</td>\n",
       "      <td>...</td>\n",
       "      <td>0.27576</td>\n",
       "      <td>0.272936</td>\n",
       "      <td>0.270145</td>\n",
       "      <td>0.267385</td>\n",
       "      <td>0.264658</td>\n",
       "      <td>0.261961</td>\n",
       "      <td>0.259296</td>\n",
       "      <td>0.256661</td>\n",
       "      <td>0.254056</td>\n",
       "      <td>19.871954</td>\n",
       "    </tr>\n",
       "    <tr>\n",
       "      <th>216</th>\n",
       "      <td>0.751268</td>\n",
       "      <td>0.742431</td>\n",
       "      <td>0.733714</td>\n",
       "      <td>0.725114</td>\n",
       "      <td>0.71663</td>\n",
       "      <td>0.70826</td>\n",
       "      <td>0.700003</td>\n",
       "      <td>0.691856</td>\n",
       "      <td>0.683818</td>\n",
       "      <td>0.675887</td>\n",
       "      <td>...</td>\n",
       "      <td>0.27576</td>\n",
       "      <td>0.272936</td>\n",
       "      <td>0.270145</td>\n",
       "      <td>0.267385</td>\n",
       "      <td>0.264658</td>\n",
       "      <td>0.261961</td>\n",
       "      <td>0.259296</td>\n",
       "      <td>0.256661</td>\n",
       "      <td>0.254056</td>\n",
       "      <td>19.878989</td>\n",
       "    </tr>\n",
       "    <tr>\n",
       "      <th>217</th>\n",
       "      <td>0.751268</td>\n",
       "      <td>0.742431</td>\n",
       "      <td>0.733714</td>\n",
       "      <td>0.725114</td>\n",
       "      <td>0.71663</td>\n",
       "      <td>0.70826</td>\n",
       "      <td>0.700003</td>\n",
       "      <td>0.691856</td>\n",
       "      <td>0.683818</td>\n",
       "      <td>0.675887</td>\n",
       "      <td>...</td>\n",
       "      <td>0.27576</td>\n",
       "      <td>0.272936</td>\n",
       "      <td>0.270145</td>\n",
       "      <td>0.267385</td>\n",
       "      <td>0.264658</td>\n",
       "      <td>0.261961</td>\n",
       "      <td>0.259296</td>\n",
       "      <td>0.256661</td>\n",
       "      <td>0.254056</td>\n",
       "      <td>19.885933</td>\n",
       "    </tr>\n",
       "  </tbody>\n",
       "</table>\n",
       "<p>218 rows × 101 columns</p>\n",
       "</div>"
      ],
      "text/plain": [
       "           a0        a1        a2        a3       a4       a5        a6  \\\n",
       "0    0.751268  0.742431  0.733714  0.725114  0.71663  0.70826  0.700003   \n",
       "1    0.751268  0.742431  0.733714  0.725114  0.71663  0.70826  0.700003   \n",
       "2    0.751268  0.742431  0.733714  0.725114  0.71663  0.70826  0.700003   \n",
       "3    0.751268  0.742431  0.733714  0.725114  0.71663  0.70826  0.700003   \n",
       "4    0.751268  0.742431  0.733714  0.725114  0.71663  0.70826  0.700003   \n",
       "..        ...       ...       ...       ...      ...      ...       ...   \n",
       "213  0.751268  0.742431  0.733714  0.725114  0.71663  0.70826  0.700003   \n",
       "214  0.751268  0.742431  0.733714  0.725114  0.71663  0.70826  0.700003   \n",
       "215  0.751268  0.742431  0.733714  0.725114  0.71663  0.70826  0.700003   \n",
       "216  0.751268  0.742431  0.733714  0.725114  0.71663  0.70826  0.700003   \n",
       "217  0.751268  0.742431  0.733714  0.725114  0.71663  0.70826  0.700003   \n",
       "\n",
       "           a7        a8        a9  ...      a91       a92       a93       a94  \\\n",
       "0    0.691856  0.683818  0.675887  ...  0.27576  0.272936  0.270145  0.267385   \n",
       "1    0.691856  0.683818  0.675887  ...  0.27576  0.272936  0.270145  0.267385   \n",
       "2    0.691856  0.683818  0.675887  ...  0.27576  0.272936  0.270145  0.267385   \n",
       "3    0.691856  0.683818  0.675887  ...  0.27576  0.272936  0.270145  0.267385   \n",
       "4    0.691856  0.683818  0.675887  ...  0.27576  0.272936  0.270145  0.267385   \n",
       "..        ...       ...       ...  ...      ...       ...       ...       ...   \n",
       "213  0.691856  0.683818  0.675887  ...  0.27576  0.272936  0.270145  0.267385   \n",
       "214  0.691856  0.683818  0.675887  ...  0.27576  0.272936  0.270145  0.267385   \n",
       "215  0.691856  0.683818  0.675887  ...  0.27576  0.272936  0.270145  0.267385   \n",
       "216  0.691856  0.683818  0.675887  ...  0.27576  0.272936  0.270145  0.267385   \n",
       "217  0.691856  0.683818  0.675887  ...  0.27576  0.272936  0.270145  0.267385   \n",
       "\n",
       "          a95       a96       a97       a98       a99   capacity  \n",
       "0    0.264658  0.261961  0.259296  0.256661  0.254056   0.000000  \n",
       "1    0.264658  0.261961  0.259296  0.256661  0.254056   1.651814  \n",
       "2    0.264658  0.261961  0.259296  0.256661  0.254056   2.536165  \n",
       "3    0.264658  0.261961  0.259296  0.256661  0.254056   3.240852  \n",
       "4    0.264658  0.261961  0.259296  0.256661  0.254056   3.847861  \n",
       "..        ...       ...       ...       ...       ...        ...  \n",
       "213  0.264658  0.261961  0.259296  0.256661  0.254056  19.857600  \n",
       "214  0.264658  0.261961  0.259296  0.256661  0.254056  19.864824  \n",
       "215  0.264658  0.261961  0.259296  0.256661  0.254056  19.871954  \n",
       "216  0.264658  0.261961  0.259296  0.256661  0.254056  19.878989  \n",
       "217  0.264658  0.261961  0.259296  0.256661  0.254056  19.885933  \n",
       "\n",
       "[218 rows x 101 columns]"
      ]
     },
     "execution_count": 189,
     "metadata": {},
     "output_type": "execute_result"
    }
   ],
   "source": [
    "pred_matrix"
   ]
  },
  {
   "cell_type": "code",
   "execution_count": 190,
   "metadata": {},
   "outputs": [],
   "source": [
    "model = smf.ols(formula='capacity~a22+a2+a98',data=pred_matrix).fit()"
   ]
  },
  {
   "cell_type": "code",
   "execution_count": 191,
   "metadata": {},
   "outputs": [
    {
     "name": "stdout",
     "output_type": "stream",
     "text": [
      "                            OLS Regression Results                            \n",
      "==============================================================================\n",
      "Dep. Variable:               capacity   R-squared:                      -0.000\n",
      "Model:                            OLS   Adj. R-squared:                 -0.005\n",
      "Method:                 Least Squares   F-statistic:                -2.519e-14\n",
      "Date:                Fri, 14 May 2021   Prob (F-statistic):               1.00\n",
      "Time:                        14:52:23   Log-Likelihood:                -623.70\n",
      "No. Observations:                 218   AIC:                             1251.\n",
      "Df Residuals:                     216   BIC:                             1258.\n",
      "Df Model:                           1                                         \n",
      "Covariance Type:            nonrobust                                         \n",
      "==============================================================================\n",
      "                 coef    std err          t      P>|t|      [0.025      0.975]\n",
      "------------------------------------------------------------------------------\n",
      "Intercept      8.3949      0.148     56.673      0.000       8.103       8.687\n",
      "a22            4.8843      0.086     56.673      0.000       4.714       5.054\n",
      "a2             6.1594      0.109     56.673      0.000       5.945       6.374\n",
      "a98            2.1546      0.038     56.673      0.000       2.080       2.230\n",
      "==============================================================================\n",
      "Omnibus:                       70.055   Durbin-Watson:                   0.002\n",
      "Prob(Omnibus):                  0.000   Jarque-Bera (JB):              137.175\n",
      "Skew:                          -1.629   Prob(JB):                     1.63e-30\n",
      "Kurtosis:                       5.117   Cond. No.                     3.61e+30\n",
      "==============================================================================\n",
      "\n",
      "Warnings:\n",
      "[1] Standard Errors assume that the covariance matrix of the errors is correctly specified.\n",
      "[2] The smallest eigenvalue is 3.24e-59. This might indicate that there are\n",
      "strong multicollinearity problems or that the design matrix is singular.\n"
     ]
    }
   ],
   "source": [
    "print(model.summary())"
   ]
  },
  {
   "cell_type": "code",
   "execution_count": 198,
   "metadata": {},
   "outputs": [],
   "source": [
    "fit = lm.fit(pred_matrix[['a2','a22','a98']],np.array(capacity).reshape(-1,1))"
   ]
  },
  {
   "cell_type": "code",
   "execution_count": 199,
   "metadata": {},
   "outputs": [
    {
     "data": {
      "text/plain": [
       "array([[-7.12663412e+30, -3.56331706e+30, -3.56331706e+30]])"
      ]
     },
     "execution_count": 199,
     "metadata": {},
     "output_type": "execute_result"
    }
   ],
   "source": [
    "fit.coef_"
   ]
  },
  {
   "cell_type": "code",
   "execution_count": 201,
   "metadata": {},
   "outputs": [
    {
     "data": {
      "text/plain": [
       "4.229407509971315"
      ]
     },
     "execution_count": 201,
     "metadata": {},
     "output_type": "execute_result"
    }
   ],
   "source": [
    "rmse(capacity, pred_val)"
   ]
  },
  {
   "cell_type": "code",
   "execution_count": 205,
   "metadata": {},
   "outputs": [
    {
     "data": {
      "text/plain": [
       "(218,)"
      ]
     },
     "execution_count": 205,
     "metadata": {},
     "output_type": "execute_result"
    }
   ],
   "source": [
    "pred_matrix['capacity'].shape"
   ]
  },
  {
   "cell_type": "code",
   "execution_count": 203,
   "metadata": {},
   "outputs": [
    {
     "ename": "Exception",
     "evalue": "Data must be 1-dimensional",
     "output_type": "error",
     "traceback": [
      "\u001b[1;31m---------------------------------------------------------------------------\u001b[0m",
      "\u001b[1;31mException\u001b[0m                                 Traceback (most recent call last)",
      "\u001b[1;32m<ipython-input-203-805320dab493>\u001b[0m in \u001b[0;36m<module>\u001b[1;34m\u001b[0m\n\u001b[1;32m----> 1\u001b[1;33m \u001b[0mr2\u001b[0m\u001b[1;33m(\u001b[0m\u001b[0mpred_matrix\u001b[0m\u001b[1;33m[\u001b[0m\u001b[1;34m'capacity'\u001b[0m\u001b[1;33m]\u001b[0m\u001b[1;33m,\u001b[0m \u001b[0mpred_val\u001b[0m\u001b[1;33m)\u001b[0m\u001b[1;33m\u001b[0m\u001b[1;33m\u001b[0m\u001b[0m\n\u001b[0m",
      "\u001b[1;32m<ipython-input-149-d782a6671ef5>\u001b[0m in \u001b[0;36mr2\u001b[1;34m(actual, predicted)\u001b[0m\n\u001b[0;32m      1\u001b[0m \u001b[1;32mdef\u001b[0m \u001b[0mr2\u001b[0m\u001b[1;33m(\u001b[0m\u001b[0mactual\u001b[0m\u001b[1;33m,\u001b[0m\u001b[0mpredicted\u001b[0m\u001b[1;33m)\u001b[0m\u001b[1;33m:\u001b[0m\u001b[1;33m\u001b[0m\u001b[1;33m\u001b[0m\u001b[0m\n\u001b[1;32m----> 2\u001b[1;33m     \u001b[0mdf\u001b[0m \u001b[1;33m=\u001b[0m \u001b[0mpd\u001b[0m\u001b[1;33m.\u001b[0m\u001b[0mDataFrame\u001b[0m\u001b[1;33m(\u001b[0m\u001b[1;33m{\u001b[0m\u001b[1;34m'actual'\u001b[0m\u001b[1;33m:\u001b[0m\u001b[0mactual\u001b[0m\u001b[1;33m,\u001b[0m\u001b[1;34m'predicted'\u001b[0m\u001b[1;33m:\u001b[0m\u001b[0mpredicted\u001b[0m\u001b[1;33m}\u001b[0m\u001b[1;33m)\u001b[0m\u001b[1;33m\u001b[0m\u001b[1;33m\u001b[0m\u001b[0m\n\u001b[0m\u001b[0;32m      3\u001b[0m     \u001b[0mSS_tot\u001b[0m \u001b[1;33m=\u001b[0m \u001b[0msum\u001b[0m\u001b[1;33m(\u001b[0m\u001b[1;33m(\u001b[0m\u001b[0mdf\u001b[0m\u001b[1;33m[\u001b[0m\u001b[1;34m'actual'\u001b[0m\u001b[1;33m]\u001b[0m\u001b[1;33m-\u001b[0m\u001b[0mdf\u001b[0m\u001b[1;33m[\u001b[0m\u001b[1;34m'actual'\u001b[0m\u001b[1;33m]\u001b[0m\u001b[1;33m.\u001b[0m\u001b[0mmean\u001b[0m\u001b[1;33m(\u001b[0m\u001b[1;33m)\u001b[0m\u001b[1;33m)\u001b[0m\u001b[1;33m**\u001b[0m\u001b[1;36m2\u001b[0m\u001b[1;33m)\u001b[0m\u001b[1;33m\u001b[0m\u001b[1;33m\u001b[0m\u001b[0m\n\u001b[0;32m      4\u001b[0m     \u001b[0mSS_reg\u001b[0m \u001b[1;33m=\u001b[0m \u001b[0msum\u001b[0m\u001b[1;33m(\u001b[0m\u001b[1;33m(\u001b[0m\u001b[0mdf\u001b[0m\u001b[1;33m[\u001b[0m\u001b[1;34m'actual'\u001b[0m\u001b[1;33m]\u001b[0m\u001b[1;33m-\u001b[0m\u001b[0mdf\u001b[0m\u001b[1;33m[\u001b[0m\u001b[1;34m'predicted'\u001b[0m\u001b[1;33m]\u001b[0m\u001b[1;33m)\u001b[0m\u001b[1;33m**\u001b[0m\u001b[1;36m2\u001b[0m\u001b[1;33m)\u001b[0m\u001b[1;33m\u001b[0m\u001b[1;33m\u001b[0m\u001b[0m\n\u001b[0;32m      5\u001b[0m     \u001b[1;32mreturn\u001b[0m\u001b[1;33m(\u001b[0m\u001b[1;36m1\u001b[0m\u001b[1;33m-\u001b[0m\u001b[0mSS_reg\u001b[0m\u001b[1;33m/\u001b[0m\u001b[0mSS_tot\u001b[0m\u001b[1;33m)\u001b[0m\u001b[1;33m\u001b[0m\u001b[1;33m\u001b[0m\u001b[0m\n",
      "\u001b[1;32m~\\anaconda3\\lib\\site-packages\\pandas\\core\\frame.py\u001b[0m in \u001b[0;36m__init__\u001b[1;34m(self, data, index, columns, dtype, copy)\u001b[0m\n\u001b[0;32m    466\u001b[0m \u001b[1;33m\u001b[0m\u001b[0m\n\u001b[0;32m    467\u001b[0m         \u001b[1;32melif\u001b[0m \u001b[0misinstance\u001b[0m\u001b[1;33m(\u001b[0m\u001b[0mdata\u001b[0m\u001b[1;33m,\u001b[0m \u001b[0mdict\u001b[0m\u001b[1;33m)\u001b[0m\u001b[1;33m:\u001b[0m\u001b[1;33m\u001b[0m\u001b[1;33m\u001b[0m\u001b[0m\n\u001b[1;32m--> 468\u001b[1;33m             \u001b[0mmgr\u001b[0m \u001b[1;33m=\u001b[0m \u001b[0minit_dict\u001b[0m\u001b[1;33m(\u001b[0m\u001b[0mdata\u001b[0m\u001b[1;33m,\u001b[0m \u001b[0mindex\u001b[0m\u001b[1;33m,\u001b[0m \u001b[0mcolumns\u001b[0m\u001b[1;33m,\u001b[0m \u001b[0mdtype\u001b[0m\u001b[1;33m=\u001b[0m\u001b[0mdtype\u001b[0m\u001b[1;33m)\u001b[0m\u001b[1;33m\u001b[0m\u001b[1;33m\u001b[0m\u001b[0m\n\u001b[0m\u001b[0;32m    469\u001b[0m         \u001b[1;32melif\u001b[0m \u001b[0misinstance\u001b[0m\u001b[1;33m(\u001b[0m\u001b[0mdata\u001b[0m\u001b[1;33m,\u001b[0m \u001b[0mma\u001b[0m\u001b[1;33m.\u001b[0m\u001b[0mMaskedArray\u001b[0m\u001b[1;33m)\u001b[0m\u001b[1;33m:\u001b[0m\u001b[1;33m\u001b[0m\u001b[1;33m\u001b[0m\u001b[0m\n\u001b[0;32m    470\u001b[0m             \u001b[1;32mimport\u001b[0m \u001b[0mnumpy\u001b[0m\u001b[1;33m.\u001b[0m\u001b[0mma\u001b[0m\u001b[1;33m.\u001b[0m\u001b[0mmrecords\u001b[0m \u001b[1;32mas\u001b[0m \u001b[0mmrecords\u001b[0m\u001b[1;33m\u001b[0m\u001b[1;33m\u001b[0m\u001b[0m\n",
      "\u001b[1;32m~\\anaconda3\\lib\\site-packages\\pandas\\core\\internals\\construction.py\u001b[0m in \u001b[0;36minit_dict\u001b[1;34m(data, index, columns, dtype)\u001b[0m\n\u001b[0;32m    281\u001b[0m             \u001b[0marr\u001b[0m \u001b[1;32mif\u001b[0m \u001b[1;32mnot\u001b[0m \u001b[0mis_datetime64tz_dtype\u001b[0m\u001b[1;33m(\u001b[0m\u001b[0marr\u001b[0m\u001b[1;33m)\u001b[0m \u001b[1;32melse\u001b[0m \u001b[0marr\u001b[0m\u001b[1;33m.\u001b[0m\u001b[0mcopy\u001b[0m\u001b[1;33m(\u001b[0m\u001b[1;33m)\u001b[0m \u001b[1;32mfor\u001b[0m \u001b[0marr\u001b[0m \u001b[1;32min\u001b[0m \u001b[0marrays\u001b[0m\u001b[1;33m\u001b[0m\u001b[1;33m\u001b[0m\u001b[0m\n\u001b[0;32m    282\u001b[0m         ]\n\u001b[1;32m--> 283\u001b[1;33m     \u001b[1;32mreturn\u001b[0m \u001b[0marrays_to_mgr\u001b[0m\u001b[1;33m(\u001b[0m\u001b[0marrays\u001b[0m\u001b[1;33m,\u001b[0m \u001b[0mdata_names\u001b[0m\u001b[1;33m,\u001b[0m \u001b[0mindex\u001b[0m\u001b[1;33m,\u001b[0m \u001b[0mcolumns\u001b[0m\u001b[1;33m,\u001b[0m \u001b[0mdtype\u001b[0m\u001b[1;33m=\u001b[0m\u001b[0mdtype\u001b[0m\u001b[1;33m)\u001b[0m\u001b[1;33m\u001b[0m\u001b[1;33m\u001b[0m\u001b[0m\n\u001b[0m\u001b[0;32m    284\u001b[0m \u001b[1;33m\u001b[0m\u001b[0m\n\u001b[0;32m    285\u001b[0m \u001b[1;33m\u001b[0m\u001b[0m\n",
      "\u001b[1;32m~\\anaconda3\\lib\\site-packages\\pandas\\core\\internals\\construction.py\u001b[0m in \u001b[0;36marrays_to_mgr\u001b[1;34m(arrays, arr_names, index, columns, dtype, verify_integrity)\u001b[0m\n\u001b[0;32m     81\u001b[0m \u001b[1;33m\u001b[0m\u001b[0m\n\u001b[0;32m     82\u001b[0m         \u001b[1;31m# don't force copy because getting jammed in an ndarray anyway\u001b[0m\u001b[1;33m\u001b[0m\u001b[1;33m\u001b[0m\u001b[1;33m\u001b[0m\u001b[0m\n\u001b[1;32m---> 83\u001b[1;33m         \u001b[0marrays\u001b[0m \u001b[1;33m=\u001b[0m \u001b[0m_homogenize\u001b[0m\u001b[1;33m(\u001b[0m\u001b[0marrays\u001b[0m\u001b[1;33m,\u001b[0m \u001b[0mindex\u001b[0m\u001b[1;33m,\u001b[0m \u001b[0mdtype\u001b[0m\u001b[1;33m)\u001b[0m\u001b[1;33m\u001b[0m\u001b[1;33m\u001b[0m\u001b[0m\n\u001b[0m\u001b[0;32m     84\u001b[0m \u001b[1;33m\u001b[0m\u001b[0m\n\u001b[0;32m     85\u001b[0m         \u001b[0mcolumns\u001b[0m \u001b[1;33m=\u001b[0m \u001b[0mensure_index\u001b[0m\u001b[1;33m(\u001b[0m\u001b[0mcolumns\u001b[0m\u001b[1;33m)\u001b[0m\u001b[1;33m\u001b[0m\u001b[1;33m\u001b[0m\u001b[0m\n",
      "\u001b[1;32m~\\anaconda3\\lib\\site-packages\\pandas\\core\\internals\\construction.py\u001b[0m in \u001b[0;36m_homogenize\u001b[1;34m(data, index, dtype)\u001b[0m\n\u001b[0;32m    349\u001b[0m                     \u001b[0mval\u001b[0m \u001b[1;33m=\u001b[0m \u001b[0mdict\u001b[0m\u001b[1;33m(\u001b[0m\u001b[0mval\u001b[0m\u001b[1;33m)\u001b[0m\u001b[1;33m\u001b[0m\u001b[1;33m\u001b[0m\u001b[0m\n\u001b[0;32m    350\u001b[0m                 \u001b[0mval\u001b[0m \u001b[1;33m=\u001b[0m \u001b[0mlib\u001b[0m\u001b[1;33m.\u001b[0m\u001b[0mfast_multiget\u001b[0m\u001b[1;33m(\u001b[0m\u001b[0mval\u001b[0m\u001b[1;33m,\u001b[0m \u001b[0moindex\u001b[0m\u001b[1;33m.\u001b[0m\u001b[0m_values\u001b[0m\u001b[1;33m,\u001b[0m \u001b[0mdefault\u001b[0m\u001b[1;33m=\u001b[0m\u001b[0mnp\u001b[0m\u001b[1;33m.\u001b[0m\u001b[0mnan\u001b[0m\u001b[1;33m)\u001b[0m\u001b[1;33m\u001b[0m\u001b[1;33m\u001b[0m\u001b[0m\n\u001b[1;32m--> 351\u001b[1;33m             val = sanitize_array(\n\u001b[0m\u001b[0;32m    352\u001b[0m                 \u001b[0mval\u001b[0m\u001b[1;33m,\u001b[0m \u001b[0mindex\u001b[0m\u001b[1;33m,\u001b[0m \u001b[0mdtype\u001b[0m\u001b[1;33m=\u001b[0m\u001b[0mdtype\u001b[0m\u001b[1;33m,\u001b[0m \u001b[0mcopy\u001b[0m\u001b[1;33m=\u001b[0m\u001b[1;32mFalse\u001b[0m\u001b[1;33m,\u001b[0m \u001b[0mraise_cast_failure\u001b[0m\u001b[1;33m=\u001b[0m\u001b[1;32mFalse\u001b[0m\u001b[1;33m\u001b[0m\u001b[1;33m\u001b[0m\u001b[0m\n\u001b[0;32m    353\u001b[0m             )\n",
      "\u001b[1;32m~\\anaconda3\\lib\\site-packages\\pandas\\core\\construction.py\u001b[0m in \u001b[0;36msanitize_array\u001b[1;34m(data, index, dtype, copy, raise_cast_failure)\u001b[0m\n\u001b[0;32m    494\u001b[0m     \u001b[1;32melif\u001b[0m \u001b[0msubarr\u001b[0m\u001b[1;33m.\u001b[0m\u001b[0mndim\u001b[0m \u001b[1;33m>\u001b[0m \u001b[1;36m1\u001b[0m\u001b[1;33m:\u001b[0m\u001b[1;33m\u001b[0m\u001b[1;33m\u001b[0m\u001b[0m\n\u001b[0;32m    495\u001b[0m         \u001b[1;32mif\u001b[0m \u001b[0misinstance\u001b[0m\u001b[1;33m(\u001b[0m\u001b[0mdata\u001b[0m\u001b[1;33m,\u001b[0m \u001b[0mnp\u001b[0m\u001b[1;33m.\u001b[0m\u001b[0mndarray\u001b[0m\u001b[1;33m)\u001b[0m\u001b[1;33m:\u001b[0m\u001b[1;33m\u001b[0m\u001b[1;33m\u001b[0m\u001b[0m\n\u001b[1;32m--> 496\u001b[1;33m             \u001b[1;32mraise\u001b[0m \u001b[0mException\u001b[0m\u001b[1;33m(\u001b[0m\u001b[1;34m\"Data must be 1-dimensional\"\u001b[0m\u001b[1;33m)\u001b[0m\u001b[1;33m\u001b[0m\u001b[1;33m\u001b[0m\u001b[0m\n\u001b[0m\u001b[0;32m    497\u001b[0m         \u001b[1;32melse\u001b[0m\u001b[1;33m:\u001b[0m\u001b[1;33m\u001b[0m\u001b[1;33m\u001b[0m\u001b[0m\n\u001b[0;32m    498\u001b[0m             \u001b[0msubarr\u001b[0m \u001b[1;33m=\u001b[0m \u001b[0mcom\u001b[0m\u001b[1;33m.\u001b[0m\u001b[0masarray_tuplesafe\u001b[0m\u001b[1;33m(\u001b[0m\u001b[0mdata\u001b[0m\u001b[1;33m,\u001b[0m \u001b[0mdtype\u001b[0m\u001b[1;33m=\u001b[0m\u001b[0mdtype\u001b[0m\u001b[1;33m)\u001b[0m\u001b[1;33m\u001b[0m\u001b[1;33m\u001b[0m\u001b[0m\n",
      "\u001b[1;31mException\u001b[0m: Data must be 1-dimensional"
     ]
    }
   ],
   "source": [
    "r2(pred_matrix['capacity'], pred_val)"
   ]
  },
  {
   "cell_type": "code",
   "execution_count": null,
   "metadata": {},
   "outputs": [],
   "source": []
  },
  {
   "cell_type": "code",
   "execution_count": null,
   "metadata": {},
   "outputs": [],
   "source": []
  },
  {
   "cell_type": "code",
   "execution_count": null,
   "metadata": {},
   "outputs": [],
   "source": []
  },
  {
   "cell_type": "markdown",
   "metadata": {},
   "source": [
    "# SRE Solve"
   ]
  },
  {
   "cell_type": "code",
   "execution_count": 43,
   "metadata": {},
   "outputs": [
    {
     "data": {
      "image/png": "[encoded data removed]",
      "text/plain": [
       "<Figure size 432x288 with 1 Axes>"
      ]
     },
     "metadata": {
      "needs_background": "light"
     },
     "output_type": "display_data"
    }
   ],
   "source": [
    "# normalized capacity\n",
    "\n",
    "norm_capacity = capacity\n",
    "m = max(norm_capacity)\n",
    "norm_capacity =( norm_capacity - m )/ (- 2 * m)\n",
    "plt.plot(norm_capacity)\n",
    "plt.show()"
   ]
  },
  {
   "cell_type": "code",
   "execution_count": 44,
   "metadata": {},
   "outputs": [],
   "source": [
    "b_range = np.linspace(0.4,0.7,100)\n",
    "b_matrix = np.zeros([len(response['cycles']),len(b_range)])\n",
    "for i in range(len(b_range)):\n",
    "    b_matrix[:,i] = response['cycles']*b_range[i]"
   ]
  },
  {
   "cell_type": "code",
   "execution_count": 45,
   "metadata": {},
   "outputs": [
    {
     "data": {
      "text/plain": [
       "0.24799004306357647"
      ]
     },
     "execution_count": 45,
     "metadata": {},
     "output_type": "execute_result"
    }
   ],
   "source": [
    "enet = ElasticNetCV(l1_ratio=0.5)\n",
    "fit = enet.fit(b_matrix,norm_capacity)\n",
    "\n",
    "fit.intercept_"
   ]
  },
  {
   "cell_type": "code",
   "execution_count": 46,
   "metadata": {},
   "outputs": [
    {
     "data": {
      "text/plain": [
       "array([-3.91313335e-04, -2.33409369e-05, -2.02104492e-05, -1.97592565e-05,\n",
       "       -1.93255059e-05, -1.89043628e-05, -1.84953683e-05, -1.80980876e-05,\n",
       "       -1.77121042e-05, -1.73370195e-05, -1.69724515e-05, -1.66180340e-05,\n",
       "       -1.62734164e-05, -1.59382622e-05, -1.56122487e-05, -1.52950665e-05,\n",
       "       -1.49864185e-05, -1.46860196e-05, -1.43935961e-05, -1.41088850e-05,\n",
       "       -1.38316337e-05, -1.35615995e-05, -1.32985490e-05, -1.30422580e-05,\n",
       "       -1.27925107e-05, -1.25490996e-05, -1.23118250e-05, -1.20804947e-05,\n",
       "       -1.18549238e-05, -1.16349341e-05, -1.14203541e-05, -1.12110184e-05,\n",
       "       -1.10067679e-05, -1.08074490e-05, -1.06129139e-05, -1.04230198e-05,\n",
       "       -1.02376292e-05, -1.00566093e-05, -9.87983218e-06, -9.70717414e-06,\n",
       "       -9.53851594e-06, -9.37374243e-06, -9.21274239e-06, -9.05540842e-06,\n",
       "       -8.90163676e-06, -8.75132716e-06, -8.60438273e-06, -8.46070982e-06,\n",
       "       -8.32021788e-06, -8.18281937e-06, -8.04842961e-06, -7.91696670e-06,\n",
       "       -7.78835137e-06, -7.66250695e-06, -7.53935922e-06, -7.41883632e-06,\n",
       "       -7.30086870e-06, -7.18538898e-06, -7.07233193e-06, -6.96163435e-06,\n",
       "       -6.85323500e-06, -6.74707455e-06, -6.64309549e-06, -6.54124208e-06,\n",
       "       -6.44146027e-06, -6.34369767e-06, -6.24790345e-06, -6.15402832e-06,\n",
       "       -6.06202447e-06, -5.97184549e-06, -5.88344637e-06, -5.79678341e-06,\n",
       "       -5.71181420e-06, -5.62849756e-06, -5.54679350e-06, -5.46666320e-06,\n",
       "       -5.38806895e-06, -5.31097412e-06, -5.23534312e-06, -5.16114137e-06,\n",
       "       -5.08833527e-06, -5.01689216e-06, -4.94678029e-06, -4.87796880e-06,\n",
       "       -4.81042768e-06, -4.74412775e-06, -4.67904062e-06, -4.61513870e-06,\n",
       "       -4.55239512e-06, -4.49078375e-06, -4.43027919e-06, -4.37085667e-06,\n",
       "       -4.31249212e-06, -4.25516210e-06, -4.19884379e-06, -4.14351497e-06,\n",
       "       -4.08915400e-06, -4.03573982e-06, -3.98325189e-06, -3.93167023e-06])"
      ]
     },
     "execution_count": 46,
     "metadata": {},
     "output_type": "execute_result"
    }
   ],
   "source": [
    "fit.coef_"
   ]
  },
  {
   "cell_type": "code",
   "execution_count": 47,
   "metadata": {},
   "outputs": [
    {
     "data": {
      "image/png": "[encoded data removed]",
      "text/plain": [
       "<Figure size 720x288 with 1 Axes>"
      ]
     },
     "metadata": {
      "needs_background": "light"
     },
     "output_type": "display_data"
    }
   ],
   "source": [
    "X = b_matrix[:,95]-1\n",
    "X = pd.DataFrame(X,columns=['b_matrix'])\n",
    "X['norm_capacity'] = norm_capacity\n",
    "fit = smf.glm(formula='norm_capacity~b_matrix',data=X).fit()\n",
    "pred_val = fit.predict(X['b_matrix'])\n",
    "plt.figure(figsize=(10,4))\n",
    "plt.scatter(x=list(range(len(norm_capacity))),y=norm_capacity)\n",
    "plt.plot(pred_val,'r')\n",
    "plt.show()"
   ]
  },
  {
   "cell_type": "code",
   "execution_count": null,
   "metadata": {},
   "outputs": [],
   "source": []
  }
 ],
 "metadata": {
  "kernelspec": {
   "display_name": "Python 3",
   "language": "python",
   "name": "python3"
  },
  "language_info": {
   "codemirror_mode": {
    "name": "ipython",
    "version": 3
   },
   "file_extension": ".py",
   "mimetype": "text/x-python",
   "name": "python",
   "nbconvert_exporter": "python",
   "pygments_lexer": "ipython3",
   "version": "3.8.3"
  }
 },
 "nbformat": 4,
 "nbformat_minor": 4
}
