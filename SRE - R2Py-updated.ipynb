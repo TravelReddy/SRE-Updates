{
 "cells": [
  {
   "cell_type": "code",
   "execution_count": 1,
   "metadata": {},
   "outputs": [],
   "source": [
    "import math\n",
    "import numpy as np\n",
    "import pandas as pd\n",
    "import itertools\n",
    "import matplotlib.pyplot as plt\n",
    "import seaborn as sns\n",
    "import statsmodels.formula.api as smf\n",
    "import statsmodels.api as sm\n",
    "from sklearn.metrics import mean_squared_error\n",
    "from sklearn.preprocessing import StandardScaler\n",
    "from sklearn.metrics import mean_squared_error\n",
    "from sklearn.model_selection import train_test_split,GridSearchCV\n",
    "from sklearn.linear_model import ElasticNet,Lasso,Ridge,LinearRegression,ElasticNetCV,LassoCV\n",
    "from sklearn.model_selection import train_test_split\n",
    "import warnings\n",
    "warnings.filterwarnings('ignore')"
   ]
  },
  {
   "cell_type": "markdown",
   "metadata": {},
   "source": [
    "# 1. write the equation that governs the SRE\n",
    "# M - 2M (1 / (1 + exp((a * x)^b)))"
   ]
  },
  {
   "cell_type": "code",
   "execution_count": 2,
   "metadata": {},
   "outputs": [],
   "source": [
    "def single_sre(a,b,m,cycles):\n",
    "        try:\n",
    "            sre = []\n",
    "            for cycle in cycles:\n",
    "                z = 1 + math.exp((a * cycle)**b)\n",
    "                f = m - ((2* m) * (1/z))\n",
    "                sre.append(f)\n",
    "            return sre\n",
    "        except OverflowError:\n",
    "            z = float('inf')\n",
    "            return z"
   ]
  },
  {
   "cell_type": "code",
   "execution_count": 3,
   "metadata": {},
   "outputs": [],
   "source": [
    "def rmse(x,y):\n",
    "    return np.sqrt(mean_squared_error(x,y))"
   ]
  },
  {
   "cell_type": "code",
   "execution_count": 4,
   "metadata": {},
   "outputs": [],
   "source": [
    "def r2(actual,predicted):\n",
    "    df = pd.DataFrame({'actual':actual,'predicted':predicted})\n",
    "    SS_tot = sum((df['actual']-df['actual'].mean())**2)\n",
    "    SS_reg = sum((df['actual']-df['predicted'])**2)\n",
    "    return(1-SS_reg/SS_tot)"
   ]
  },
  {
   "cell_type": "code",
   "execution_count": 5,
   "metadata": {},
   "outputs": [],
   "source": [
    "def expandgrid(a,b):\n",
    "    product = list(itertools.product(list(np.ravel(a)),\n",
    "                                     list(np.ravel(b))))\n",
    "    df = pd.DataFrame(product,columns=['a','b'])\n",
    "    return df"
   ]
  },
  {
   "cell_type": "markdown",
   "metadata": {},
   "source": [
    "# 2. create a range of values for a, b, and m"
   ]
  },
  {
   "cell_type": "code",
   "execution_count": 6,
   "metadata": {},
   "outputs": [],
   "source": [
    "\n",
    "num_a = 100\n",
    "num_b = 1\n",
    "a_range = np.linspace(.02, .03,num_a)\n",
    "b_range = 0.6\n",
    "#b_range = seq(.5, .7, length.out = num_b)\n",
    "m_range = 20.5 # fixed"
   ]
  },
  {
   "cell_type": "code",
   "execution_count": 7,
   "metadata": {},
   "outputs": [],
   "source": [
    "all_combinations = expandgrid(a_range,b_range)\n",
    "num_combinations = all_combinations.shape[0]"
   ]
  },
  {
   "cell_type": "markdown",
   "metadata": {},
   "source": [
    "- estiamted SRE through cell sage: a = 0.0219, b = 0.600, m = 20.5\n",
    "\n",
    "# 3. Create the data required for regression\n",
    "- read in the data"
   ]
  },
  {
   "cell_type": "code",
   "execution_count": 8,
   "metadata": {},
   "outputs": [],
   "source": [
    "cells = pd.read_excel('./cells.xlsx')\n",
    "response = cells[cells['cell']==4]"
   ]
  },
  {
   "cell_type": "markdown",
   "metadata": {},
   "source": [
    "- create data required for elastic net as a \n",
    "- series of different potential values of a, b, and m"
   ]
  },
  {
   "cell_type": "code",
   "execution_count": 9,
   "metadata": {},
   "outputs": [],
   "source": [
    "cycles = response['cycles']\n",
    "capacity = response['capacity']\n",
    "num_cycles = len(cycles)\n",
    "pred_matrix = np.zeros((num_cycles,num_combinations))"
   ]
  },
  {
   "cell_type": "code",
   "execution_count": 10,
   "metadata": {},
   "outputs": [],
   "source": [
    "for i in range(num_combinations):\n",
    "    pred_matrix[:,i] = single_sre(cycles=cycles,\n",
    "                                  a=all_combinations['a'][i], \n",
    "                                  b=all_combinations['b'][i],\n",
    "                                  m=m_range)"
   ]
  },
  {
   "cell_type": "markdown",
   "metadata": {},
   "source": [
    "# 4.  elastic-net regression analysis"
   ]
  },
  {
   "cell_type": "code",
   "execution_count": 11,
   "metadata": {},
   "outputs": [],
   "source": [
    "enet = ElasticNetCV(l1_ratio=0.5)\n",
    "fit = enet.fit(X=pred_matrix,y=capacity)"
   ]
  },
  {
   "cell_type": "markdown",
   "metadata": {},
   "source": [
    "# DOUBT"
   ]
  },
  {
   "cell_type": "code",
   "execution_count": 12,
   "metadata": {},
   "outputs": [],
   "source": [
    "temp_lambda = fit.alphas_\n",
    "new_lambda = [math.exp(i) for i in np.linspace(np.log(temp_lambda[1]),np.log(temp_lambda[3]),100)]\n",
    "enet = ElasticNetCV(l1_ratio=0.5,alphas=new_lambda)\n",
    "fit = enet.fit(X=pred_matrix,y=capacity)"
   ]
  },
  {
   "cell_type": "code",
   "execution_count": 13,
   "metadata": {},
   "outputs": [
    {
     "data": {
      "text/plain": [
       "array([0.0130011 , 0.01256167, 0.01211493, 0.0116609 , 0.01119958,\n",
       "       0.01073101, 0.01025522, 0.00977227, 0.00928225, 0.00878523,\n",
       "       0.00828131, 0.00777062, 0.00725329, 0.00672944, 0.00619924,\n",
       "       0.00566284, 0.00512043, 0.00457216, 0.00401824, 0.00345882,\n",
       "       0.00289408, 0.00232419, 0.00174929, 0.00116952, 0.000585  ,\n",
       "       0.        , 0.        , 0.        , 0.        , 0.        ,\n",
       "       0.        , 0.        , 0.        , 0.        , 0.        ,\n",
       "       0.        , 0.        , 0.        , 0.        , 0.        ,\n",
       "       0.        , 0.        , 0.        , 0.        , 0.        ,\n",
       "       0.        , 0.        , 0.        , 0.        , 0.        ,\n",
       "       0.        , 0.        , 0.        , 0.        , 0.        ,\n",
       "       0.        , 0.        , 0.        , 0.        , 0.        ,\n",
       "       0.        , 0.        , 0.        , 0.        , 0.        ,\n",
       "       0.        , 0.        , 0.        , 0.        , 0.        ,\n",
       "       0.        , 0.        , 0.        , 0.        , 0.        ,\n",
       "       0.        , 0.        , 0.        , 0.        , 0.        ,\n",
       "       0.        , 0.        , 0.        , 0.        , 0.        ,\n",
       "       0.        , 0.        , 0.        , 0.        , 0.        ,\n",
       "       0.        , 0.        , 0.        , 0.        , 0.        ,\n",
       "       0.        , 0.        , 0.        , 0.        , 0.        ])"
      ]
     },
     "execution_count": 13,
     "metadata": {},
     "output_type": "execute_result"
    }
   ],
   "source": [
    "fit.coef_"
   ]
  },
  {
   "cell_type": "code",
   "execution_count": 14,
   "metadata": {},
   "outputs": [
    {
     "data": {
      "text/plain": [
       "array([[0.99998282]])"
      ]
     },
     "execution_count": 14,
     "metadata": {},
     "output_type": "execute_result"
    }
   ],
   "source": [
    "from sklearn.linear_model import LinearRegression\n",
    "lm = LinearRegression()\n",
    "fit = lm.fit(X=pred_matrix[:,20:21],y=np.array(capacity).reshape(-1,1))\n",
    "fit.coef_"
   ]
  },
  {
   "cell_type": "code",
   "execution_count": 17,
   "metadata": {},
   "outputs": [
    {
     "data": {
      "image/png": "[encoded data removed]",
      "text/plain": [
       "<Figure size 720x288 with 1 Axes>"
      ]
     },
     "metadata": {
      "needs_background": "light"
     },
     "output_type": "display_data"
    }
   ],
   "source": [
    "pred_val = fit.predict(pred_matrix[:,20:21])\n",
    "plt.figure(figsize=(10,4))\n",
    "plt.scatter(x=list(range(len(capacity))),y=capacity)\n",
    "plt.plot(pred_val,'r')\n",
    "# plt.ylim(,20)\n",
    "plt.show()"
   ]
  },
  {
   "cell_type": "code",
   "execution_count": 18,
   "metadata": {},
   "outputs": [
    {
     "data": {
      "text/plain": [
       "0.005868387797403959"
      ]
     },
     "execution_count": 18,
     "metadata": {},
     "output_type": "execute_result"
    }
   ],
   "source": [
    "rmse(x=capacity,y=pred_val)"
   ]
  },
  {
   "cell_type": "code",
   "execution_count": 19,
   "metadata": {},
   "outputs": [
    {
     "data": {
      "text/plain": [
       "0.9999980747880599"
      ]
     },
     "execution_count": 19,
     "metadata": {},
     "output_type": "execute_result"
    }
   ],
   "source": [
    "r2(capacity,pred_val.reshape(-1,))"
   ]
  },
  {
   "cell_type": "markdown",
   "metadata": {},
   "source": [
    "# Adaptive Lasso"
   ]
  },
  {
   "cell_type": "code",
   "execution_count": 20,
   "metadata": {},
   "outputs": [],
   "source": [
    "enet = ElasticNetCV(l1_ratio=0,alphas=np.arange(0,1,0.2))\n",
    "fit = enet.fit(pred_matrix,capacity)\n",
    "temp_coefs = fit.coef_\n",
    "enet = ElasticNetCV(l1_ratio=1/abs(min(temp_coefs)))\n",
    "fit = enet.fit(pred_matrix,capacity)"
   ]
  },
  {
   "cell_type": "code",
   "execution_count": 21,
   "metadata": {},
   "outputs": [
    {
     "data": {
      "image/png": "[encoded data removed]",
      "text/plain": [
       "<Figure size 720x288 with 1 Axes>"
      ]
     },
     "metadata": {
      "needs_background": "light"
     },
     "output_type": "display_data"
    }
   ],
   "source": [
    "pred_val = fit.predict(pred_matrix)\n",
    "plt.figure(figsize=(10,4))\n",
    "plt.scatter(x=list(range(len(capacity))),y=capacity)\n",
    "plt.plot(pred_val,'r')\n",
    "# plt.ylim(,20)\n",
    "plt.show()"
   ]
  },
  {
   "cell_type": "code",
   "execution_count": 22,
   "metadata": {},
   "outputs": [
    {
     "data": {
      "text/plain": [
       "array([[0.9897321]])"
      ]
     },
     "execution_count": 22,
     "metadata": {},
     "output_type": "execute_result"
    }
   ],
   "source": [
    "fit = lm.fit(X=pred_matrix[:,1:2],y=np.array(capacity).reshape(-1,1))\n",
    "fit.coef_"
   ]
  },
  {
   "cell_type": "code",
   "execution_count": 23,
   "metadata": {},
   "outputs": [
    {
     "data": {
      "image/png": "[encoded data removed]",
      "text/plain": [
       "<Figure size 720x288 with 1 Axes>"
      ]
     },
     "metadata": {
      "needs_background": "light"
     },
     "output_type": "display_data"
    }
   ],
   "source": [
    "pred_val = fit.predict(pred_matrix[:,1:2])\n",
    "plt.figure(figsize=(10,4))\n",
    "plt.scatter(x=list(range(len(capacity))),y=capacity)\n",
    "plt.plot(pred_val,'r')\n",
    "# plt.ylim(,20)\n",
    "plt.show()"
   ]
  },
  {
   "cell_type": "code",
   "execution_count": 24,
   "metadata": {},
   "outputs": [
    {
     "data": {
      "text/plain": [
       "0.10578758199793241"
      ]
     },
     "execution_count": 24,
     "metadata": {},
     "output_type": "execute_result"
    }
   ],
   "source": [
    "rmse(x=capacity,y=pred_val)"
   ]
  },
  {
   "cell_type": "code",
   "execution_count": 25,
   "metadata": {},
   "outputs": [
    {
     "data": {
      "text/plain": [
       "0.9993743804424164"
      ]
     },
     "execution_count": 25,
     "metadata": {},
     "output_type": "execute_result"
    }
   ],
   "source": [
    "r2(capacity,pred_val.reshape(-1,))"
   ]
  },
  {
   "cell_type": "markdown",
   "metadata": {},
   "source": [
    "# LASSO"
   ]
  },
  {
   "cell_type": "code",
   "execution_count": 26,
   "metadata": {},
   "outputs": [],
   "source": [
    "enet = ElasticNetCV(l1_ratio=1)\n",
    "fit = enet.fit(pred_matrix,capacity)\n",
    "temp_lambda = fit.alphas_\n",
    "new_lambda = [math.exp(i) for i in np.linspace(np.log(temp_lambda[1]),np.log(temp_lambda[5]),100)]\n",
    "enet = ElasticNetCV(l1_ratio=1,alphas=new_lambda)\n",
    "fit = enet.fit(pred_matrix,capacity)"
   ]
  },
  {
   "cell_type": "code",
   "execution_count": 27,
   "metadata": {},
   "outputs": [
    {
     "data": {
      "text/plain": [
       "array([0.29134624, 0.        , 0.        , 0.        , 0.        ,\n",
       "       0.        , 0.        , 0.        , 0.        , 0.        ,\n",
       "       0.        , 0.        , 0.        , 0.        , 0.        ,\n",
       "       0.        , 0.        , 0.        , 0.        , 0.        ,\n",
       "       0.        , 0.        , 0.        , 0.        , 0.        ,\n",
       "       0.        , 0.        , 0.        , 0.        , 0.        ,\n",
       "       0.        , 0.        , 0.        , 0.        , 0.        ,\n",
       "       0.        , 0.        , 0.        , 0.        , 0.        ,\n",
       "       0.        , 0.        , 0.        , 0.        , 0.        ,\n",
       "       0.        , 0.        , 0.        , 0.        , 0.        ,\n",
       "       0.        , 0.        , 0.        , 0.        , 0.        ,\n",
       "       0.        , 0.        , 0.        , 0.        , 0.        ,\n",
       "       0.        , 0.        , 0.        , 0.        , 0.        ,\n",
       "       0.        , 0.        , 0.        , 0.        , 0.        ,\n",
       "       0.        , 0.        , 0.        , 0.        , 0.        ,\n",
       "       0.        , 0.        , 0.        , 0.        , 0.        ,\n",
       "       0.        , 0.        , 0.        , 0.        , 0.        ,\n",
       "       0.        , 0.        , 0.        , 0.        , 0.        ,\n",
       "       0.        , 0.        , 0.        , 0.        , 0.        ,\n",
       "       0.        , 0.        , 0.        , 0.        , 0.        ])"
      ]
     },
     "execution_count": 27,
     "metadata": {},
     "output_type": "execute_result"
    }
   ],
   "source": [
    "fit.coef_"
   ]
  },
  {
   "cell_type": "code",
   "execution_count": 28,
   "metadata": {},
   "outputs": [
    {
     "data": {
      "text/plain": [
       "array([[0.99885687]])"
      ]
     },
     "execution_count": 28,
     "metadata": {},
     "output_type": "execute_result"
    }
   ],
   "source": [
    "fit = lm.fit(X=pred_matrix[:,18:19],y=np.array(capacity).reshape(-1,1))\n",
    "fit.coef_"
   ]
  },
  {
   "cell_type": "code",
   "execution_count": 29,
   "metadata": {},
   "outputs": [
    {
     "data": {
      "image/png": "[encoded data removed]",
      "text/plain": [
       "<Figure size 720x288 with 1 Axes>"
      ]
     },
     "metadata": {
      "needs_background": "light"
     },
     "output_type": "display_data"
    }
   ],
   "source": [
    "pred_val = fit.predict(pred_matrix[:,18:19])\n",
    "plt.figure(figsize=(10,4))\n",
    "plt.scatter(x=list(range(len(capacity))),y=capacity)\n",
    "plt.plot(pred_val,'r')\n",
    "# plt.ylim(,20)\n",
    "plt.show()"
   ]
  },
  {
   "cell_type": "code",
   "execution_count": 30,
   "metadata": {},
   "outputs": [
    {
     "data": {
      "text/plain": [
       "0.005642523882394131"
      ]
     },
     "execution_count": 30,
     "metadata": {},
     "output_type": "execute_result"
    }
   ],
   "source": [
    "rmse(x=capacity,y=pred_val)"
   ]
  },
  {
   "cell_type": "code",
   "execution_count": 31,
   "metadata": {},
   "outputs": [
    {
     "data": {
      "text/plain": [
       "0.9999982201321941"
      ]
     },
     "execution_count": 31,
     "metadata": {},
     "output_type": "execute_result"
    }
   ],
   "source": [
    "r2(capacity,pred_val.reshape(-1,))"
   ]
  },
  {
   "cell_type": "markdown",
   "metadata": {},
   "source": [
    "# SCAD"
   ]
  },
  {
   "cell_type": "code",
   "execution_count": 32,
   "metadata": {},
   "outputs": [
    {
     "data": {
      "text/plain": [
       "array([7.94639756e-01, 0.00000000e+00, 0.00000000e+00, 0.00000000e+00,\n",
       "       0.00000000e+00, 0.00000000e+00, 0.00000000e+00, 0.00000000e+00,\n",
       "       0.00000000e+00, 0.00000000e+00, 0.00000000e+00, 0.00000000e+00,\n",
       "       0.00000000e+00, 0.00000000e+00, 0.00000000e+00, 0.00000000e+00,\n",
       "       0.00000000e+00, 0.00000000e+00, 0.00000000e+00, 0.00000000e+00,\n",
       "       0.00000000e+00, 0.00000000e+00, 0.00000000e+00, 0.00000000e+00,\n",
       "       0.00000000e+00, 0.00000000e+00, 0.00000000e+00, 0.00000000e+00,\n",
       "       0.00000000e+00, 0.00000000e+00, 0.00000000e+00, 0.00000000e+00,\n",
       "       0.00000000e+00, 0.00000000e+00, 0.00000000e+00, 0.00000000e+00,\n",
       "       0.00000000e+00, 0.00000000e+00, 0.00000000e+00, 0.00000000e+00,\n",
       "       0.00000000e+00, 0.00000000e+00, 0.00000000e+00, 0.00000000e+00,\n",
       "       0.00000000e+00, 0.00000000e+00, 0.00000000e+00, 0.00000000e+00,\n",
       "       0.00000000e+00, 0.00000000e+00, 0.00000000e+00, 0.00000000e+00,\n",
       "       0.00000000e+00, 0.00000000e+00, 0.00000000e+00, 0.00000000e+00,\n",
       "       0.00000000e+00, 0.00000000e+00, 0.00000000e+00, 0.00000000e+00,\n",
       "       0.00000000e+00, 0.00000000e+00, 0.00000000e+00, 0.00000000e+00,\n",
       "       0.00000000e+00, 0.00000000e+00, 0.00000000e+00, 0.00000000e+00,\n",
       "       0.00000000e+00, 0.00000000e+00, 4.17381464e-04, 7.48208052e-03,\n",
       "       7.35163344e-03, 7.33101003e-03, 7.30934635e-03, 7.28777730e-03,\n",
       "       7.26629346e-03, 7.24489420e-03, 7.22357883e-03, 7.20234667e-03,\n",
       "       7.18119705e-03, 7.16012932e-03, 7.13914282e-03, 7.11823694e-03,\n",
       "       7.09741103e-03, 7.07666448e-03, 7.05599669e-03, 7.03540705e-03,\n",
       "       7.01489497e-03, 6.99445988e-03, 6.97410119e-03, 6.95381835e-03,\n",
       "       6.93361080e-03, 6.91347800e-03, 6.89341939e-03, 6.87343445e-03,\n",
       "       6.85352265e-03, 6.83368347e-03, 6.81391641e-03, 6.79422096e-03])"
      ]
     },
     "execution_count": 32,
     "metadata": {},
     "output_type": "execute_result"
    }
   ],
   "source": [
    "enet= ElasticNetCV(l1_ratio=3.7)\n",
    "fit = enet.fit(pred_matrix,capacity)\n",
    "fit.coef_"
   ]
  },
  {
   "cell_type": "code",
   "execution_count": 33,
   "metadata": {},
   "outputs": [
    {
     "data": {
      "image/png": "[encoded data removed]",
      "text/plain": [
       "<Figure size 720x288 with 1 Axes>"
      ]
     },
     "metadata": {
      "needs_background": "light"
     },
     "output_type": "display_data"
    }
   ],
   "source": [
    "pred_val = fit.predict(pred_matrix)\n",
    "plt.figure(figsize=(10,4))\n",
    "plt.scatter(x=list(range(len(capacity))),y=capacity)\n",
    "plt.plot(pred_val,'r')\n",
    "# plt.ylim(,20)\n",
    "plt.show()"
   ]
  },
  {
   "cell_type": "code",
   "execution_count": 34,
   "metadata": {},
   "outputs": [
    {
     "data": {
      "text/plain": [
       "0.022192855650984184"
      ]
     },
     "execution_count": 34,
     "metadata": {},
     "output_type": "execute_result"
    }
   ],
   "source": [
    "rmse(x=capacity,y=pred_val)"
   ]
  },
  {
   "cell_type": "code",
   "execution_count": 35,
   "metadata": {},
   "outputs": [
    {
     "data": {
      "text/plain": [
       "0.9999724661265152"
      ]
     },
     "execution_count": 35,
     "metadata": {},
     "output_type": "execute_result"
    }
   ],
   "source": [
    "r2(capacity,pred_val.reshape(-1,))"
   ]
  },
  {
   "cell_type": "code",
   "execution_count": 36,
   "metadata": {},
   "outputs": [
    {
     "data": {
      "text/plain": [
       "array([[0.99553902]])"
      ]
     },
     "execution_count": 36,
     "metadata": {},
     "output_type": "execute_result"
    }
   ],
   "source": [
    "fit = lm.fit(X=pred_matrix[:,12:13],y=np.array(capacity).reshape(-1,1))\n",
    "fit.coef_"
   ]
  },
  {
   "cell_type": "code",
   "execution_count": 37,
   "metadata": {},
   "outputs": [
    {
     "data": {
      "image/png": "[encoded data removed]",
      "text/plain": [
       "<Figure size 720x288 with 1 Axes>"
      ]
     },
     "metadata": {
      "needs_background": "light"
     },
     "output_type": "display_data"
    }
   ],
   "source": [
    "pred_val = fit.predict(pred_matrix[:,12:13])\n",
    "plt.figure(figsize=(10,4))\n",
    "plt.scatter(x=list(range(len(capacity))),y=capacity)\n",
    "plt.plot(pred_val,'r')\n",
    "plt.show()"
   ]
  },
  {
   "cell_type": "code",
   "execution_count": 38,
   "metadata": {},
   "outputs": [
    {
     "data": {
      "text/plain": [
       "0.04051436332717368"
      ]
     },
     "execution_count": 38,
     "metadata": {},
     "output_type": "execute_result"
    }
   ],
   "source": [
    "rmse(x=capacity,y=pred_val)"
   ]
  },
  {
   "cell_type": "code",
   "execution_count": 39,
   "metadata": {},
   "outputs": [
    {
     "data": {
      "text/plain": [
       "0.9999082388235927"
      ]
     },
     "execution_count": 39,
     "metadata": {},
     "output_type": "execute_result"
    }
   ],
   "source": [
    "r2(capacity,pred_val.reshape(-1,))"
   ]
  },
  {
   "cell_type": "code",
   "execution_count": 40,
   "metadata": {},
   "outputs": [
    {
     "data": {
      "text/plain": [
       "array([[1.0057404]])"
      ]
     },
     "execution_count": 40,
     "metadata": {},
     "output_type": "execute_result"
    }
   ],
   "source": [
    "fit = lm.fit(X=pred_matrix[:,30:31],y=np.array(capacity).reshape(-1,1))\n",
    "fit.coef_"
   ]
  },
  {
   "cell_type": "code",
   "execution_count": 41,
   "metadata": {},
   "outputs": [
    {
     "data": {
      "image/png": "[encoded data removed]",
      "text/plain": [
       "<Figure size 720x288 with 1 Axes>"
      ]
     },
     "metadata": {
      "needs_background": "light"
     },
     "output_type": "display_data"
    }
   ],
   "source": [
    "pred_val = fit.predict(pred_matrix[:,30:31])\n",
    "plt.figure(figsize=(10,4))\n",
    "plt.scatter(x=list(range(len(capacity))),y=capacity)\n",
    "plt.plot(pred_val,'r')\n",
    "plt.show()"
   ]
  },
  {
   "cell_type": "code",
   "execution_count": 42,
   "metadata": {},
   "outputs": [
    {
     "data": {
      "text/plain": [
       "0.06258786372986938"
      ]
     },
     "execution_count": 42,
     "metadata": {},
     "output_type": "execute_result"
    }
   ],
   "source": [
    "rmse(x=capacity,y=pred_val)"
   ]
  },
  {
   "cell_type": "code",
   "execution_count": 43,
   "metadata": {},
   "outputs": [
    {
     "data": {
      "text/plain": [
       "0.9997810115586947"
      ]
     },
     "execution_count": 43,
     "metadata": {},
     "output_type": "execute_result"
    }
   ],
   "source": [
    "r2(capacity,pred_val.reshape(-1,))"
   ]
  },
  {
   "cell_type": "markdown",
   "metadata": {},
   "source": [
    "# Fused Lasso"
   ]
  },
  {
   "cell_type": "code",
   "execution_count": 44,
   "metadata": {},
   "outputs": [],
   "source": [
    "# library(genlasso)\n",
    "# fit = fusedlasso2d(capacity, pred_matrix, 10, 10)\n",
    "# plot(fit$beta[, 50])\n",
    "# which(fit$beta[,50] > .02)"
   ]
  },
  {
   "cell_type": "code",
   "execution_count": null,
   "metadata": {},
   "outputs": [],
   "source": []
  },
  {
   "cell_type": "code",
   "execution_count": null,
   "metadata": {},
   "outputs": [],
   "source": []
  },
  {
   "cell_type": "code",
   "execution_count": null,
   "metadata": {},
   "outputs": [],
   "source": []
  },
  {
   "cell_type": "code",
   "execution_count": null,
   "metadata": {},
   "outputs": [],
   "source": []
  },
  {
   "cell_type": "markdown",
   "metadata": {},
   "source": [
    "# SRE Solve"
   ]
  },
  {
   "cell_type": "code",
   "execution_count": 45,
   "metadata": {},
   "outputs": [
    {
     "data": {
      "image/png": "[encoded data removed]",
      "text/plain": [
       "<Figure size 432x288 with 1 Axes>"
      ]
     },
     "metadata": {
      "needs_background": "light"
     },
     "output_type": "display_data"
    }
   ],
   "source": [
    "# normalized capacity\n",
    "\n",
    "norm_capacity = capacity\n",
    "m = max(norm_capacity)\n",
    "norm_capacity =( norm_capacity - m )/ (- 2 * m)\n",
    "plt.plot(norm_capacity)\n",
    "plt.show()"
   ]
  },
  {
   "cell_type": "code",
   "execution_count": 46,
   "metadata": {},
   "outputs": [],
   "source": [
    "b_range = np.linspace(0.4,0.7,100)\n",
    "b_matrix = np.zeros([len(response['cycles']),len(b_range)])\n",
    "for i in range(len(b_range)):\n",
    "    b_matrix[:,i] = response['cycles']*b_range[i]"
   ]
  },
  {
   "cell_type": "code",
   "execution_count": 47,
   "metadata": {},
   "outputs": [
    {
     "data": {
      "text/plain": [
       "0.24799004306357647"
      ]
     },
     "execution_count": 47,
     "metadata": {},
     "output_type": "execute_result"
    }
   ],
   "source": [
    "enet = ElasticNetCV(l1_ratio=0.5)\n",
    "fit = enet.fit(b_matrix,norm_capacity)\n",
    "\n",
    "fit.intercept_"
   ]
  },
  {
   "cell_type": "code",
   "execution_count": 48,
   "metadata": {},
   "outputs": [
    {
     "data": {
      "text/plain": [
       "array([-3.91313335e-04, -2.33409369e-05, -2.02104492e-05, -1.97592565e-05,\n",
       "       -1.93255059e-05, -1.89043628e-05, -1.84953683e-05, -1.80980876e-05,\n",
       "       -1.77121042e-05, -1.73370195e-05, -1.69724515e-05, -1.66180340e-05,\n",
       "       -1.62734164e-05, -1.59382622e-05, -1.56122487e-05, -1.52950665e-05,\n",
       "       -1.49864185e-05, -1.46860196e-05, -1.43935961e-05, -1.41088850e-05,\n",
       "       -1.38316337e-05, -1.35615995e-05, -1.32985490e-05, -1.30422580e-05,\n",
       "       -1.27925107e-05, -1.25490996e-05, -1.23118250e-05, -1.20804947e-05,\n",
       "       -1.18549238e-05, -1.16349341e-05, -1.14203541e-05, -1.12110184e-05,\n",
       "       -1.10067679e-05, -1.08074490e-05, -1.06129139e-05, -1.04230198e-05,\n",
       "       -1.02376292e-05, -1.00566093e-05, -9.87983218e-06, -9.70717414e-06,\n",
       "       -9.53851594e-06, -9.37374243e-06, -9.21274239e-06, -9.05540842e-06,\n",
       "       -8.90163676e-06, -8.75132716e-06, -8.60438273e-06, -8.46070982e-06,\n",
       "       -8.32021788e-06, -8.18281937e-06, -8.04842961e-06, -7.91696670e-06,\n",
       "       -7.78835137e-06, -7.66250695e-06, -7.53935922e-06, -7.41883632e-06,\n",
       "       -7.30086870e-06, -7.18538898e-06, -7.07233193e-06, -6.96163435e-06,\n",
       "       -6.85323500e-06, -6.74707455e-06, -6.64309549e-06, -6.54124208e-06,\n",
       "       -6.44146027e-06, -6.34369767e-06, -6.24790345e-06, -6.15402832e-06,\n",
       "       -6.06202447e-06, -5.97184549e-06, -5.88344637e-06, -5.79678341e-06,\n",
       "       -5.71181420e-06, -5.62849756e-06, -5.54679350e-06, -5.46666320e-06,\n",
       "       -5.38806895e-06, -5.31097412e-06, -5.23534312e-06, -5.16114137e-06,\n",
       "       -5.08833527e-06, -5.01689216e-06, -4.94678029e-06, -4.87796880e-06,\n",
       "       -4.81042768e-06, -4.74412775e-06, -4.67904062e-06, -4.61513870e-06,\n",
       "       -4.55239512e-06, -4.49078375e-06, -4.43027919e-06, -4.37085667e-06,\n",
       "       -4.31249212e-06, -4.25516210e-06, -4.19884379e-06, -4.14351497e-06,\n",
       "       -4.08915400e-06, -4.03573982e-06, -3.98325189e-06, -3.93167023e-06])"
      ]
     },
     "execution_count": 48,
     "metadata": {},
     "output_type": "execute_result"
    }
   ],
   "source": [
    "fit.coef_"
   ]
  },
  {
   "cell_type": "code",
   "execution_count": 49,
   "metadata": {},
   "outputs": [
    {
     "data": {
      "image/png": "[encoded data removed]",
      "text/plain": [
       "<Figure size 720x288 with 1 Axes>"
      ]
     },
     "metadata": {
      "needs_background": "light"
     },
     "output_type": "display_data"
    }
   ],
   "source": [
    "X = b_matrix[:,95]-1\n",
    "X = pd.DataFrame(X,columns=['b_matrix'])\n",
    "X['norm_capacity'] = norm_capacity\n",
    "fit = smf.glm(formula='norm_capacity~b_matrix',data=X).fit()\n",
    "pred_val = fit.predict(X['b_matrix'])\n",
    "plt.figure(figsize=(10,4))\n",
    "plt.scatter(x=list(range(len(norm_capacity))),y=norm_capacity)\n",
    "plt.plot(pred_val,'r')\n",
    "plt.show()"
   ]
  },
  {
   "cell_type": "code",
   "execution_count": null,
   "metadata": {},
   "outputs": [],
   "source": []
  }
 ],
 "metadata": {
  "kernelspec": {
   "display_name": "Python 3",
   "language": "python",
   "name": "python3"
  },
  "language_info": {
   "codemirror_mode": {
    "name": "ipython",
    "version": 3
   },
   "file_extension": ".py",
   "mimetype": "text/x-python",
   "name": "python",
   "nbconvert_exporter": "python",
   "pygments_lexer": "ipython3",
   "version": "3.8.3"
  }
 },
 "nbformat": 4,
 "nbformat_minor": 4
}
